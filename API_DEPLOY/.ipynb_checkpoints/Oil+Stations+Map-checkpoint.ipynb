{
 "cells": [
  {
   "cell_type": "code",
   "execution_count": 1,
   "id": "4e043d42",
   "metadata": {},
   "outputs": [],
   "source": [
    "#!pip install haversine\n",
    "#!pip install shapely\n",
    "#!pip install geopandas\n",
    "#!pip install geojson\n",
    "#!pip install folium\n",
    "#!pip install tqdm"
   ]
  },
  {
   "cell_type": "code",
   "execution_count": 2,
   "id": "e30b64af",
   "metadata": {},
   "outputs": [
    {
     "name": "stderr",
     "output_type": "stream",
     "text": [
      "/mnt/c/INFO_VIP/INFO_ALEX/SPARK/google_scraper/new_scraper_google_algoritm/google_datexland_env/lib/python3.8/site-packages/geopandas/_compat.py:111: UserWarning: The Shapely GEOS version (3.8.0-CAPI-1.13.1 ) is incompatible with the GEOS version PyGEOS was compiled with (3.10.1-CAPI-1.16.0). Conversions between both will be slow.\n",
      "  warnings.warn(\n"
     ]
    }
   ],
   "source": [
    "import requests\n",
    "import random\n",
    "import pandas as pd \n",
    "from tqdm import tqdm\n",
    "from cred_here import YOUR_API_KEY\n",
    "import json \n",
    "\n",
    "import ast\n",
    "\n",
    "# Tools\n",
    "\n",
    "import folium\n",
    "from shapely.geometry import Polygon\n",
    "import numpy as np\n",
    "import geojson\n",
    "import folium\n",
    "import matplotlib.pyplot as plt\n",
    "import geopandas as gpd\n",
    "from tqdm import tqdm\n",
    "from shapely.geometry import Polygon\n",
    "import matplotlib.pyplot as plt\n",
    "import shapely.wkt\n",
    "from haversine import haversine, Unit\n",
    "import random\n",
    "import time\n",
    "from pyproj import Geod\n",
    "\n",
    "from shapely import wkt\n",
    "from geopandas import datasets, GeoDataFrame, read_file, points_from_xy\n",
    "from geopandas.tools import overlay\n",
    "from geopandas.tools import sjoin\n",
    "\n",
    "from folium.plugins import MeasureControl\n",
    "from folium.plugins import MarkerCluster\n",
    "\n",
    "from tqdm import tqdm\n",
    "import json\n",
    "\n",
    "import requests\n",
    "import random\n",
    "import time "
   ]
  },
  {
   "cell_type": "code",
   "execution_count": 3,
   "id": "2a501275",
   "metadata": {},
   "outputs": [],
   "source": [
    "df_map = pd.read_csv('DATASET_FINAL.csv')"
   ]
  },
  {
   "cell_type": "code",
   "execution_count": 4,
   "id": "c85adcd0",
   "metadata": {},
   "outputs": [
    {
     "data": {
      "text/html": [
       "<div>\n",
       "<style scoped>\n",
       "    .dataframe tbody tr th:only-of-type {\n",
       "        vertical-align: middle;\n",
       "    }\n",
       "\n",
       "    .dataframe tbody tr th {\n",
       "        vertical-align: top;\n",
       "    }\n",
       "\n",
       "    .dataframe thead th {\n",
       "        text-align: right;\n",
       "    }\n",
       "</style>\n",
       "<table border=\"1\" class=\"dataframe\">\n",
       "  <thead>\n",
       "    <tr style=\"text-align: right;\">\n",
       "      <th></th>\n",
       "      <th>Periodo</th>\n",
       "      <th>Mes</th>\n",
       "      <th>Codigo_departamento</th>\n",
       "      <th>Departamento</th>\n",
       "      <th>Codigo_municipio</th>\n",
       "      <th>Municipio</th>\n",
       "      <th>Nombre_comercial</th>\n",
       "      <th>Bandera</th>\n",
       "      <th>Direccion</th>\n",
       "      <th>Producto</th>\n",
       "      <th>Precio</th>\n",
       "      <th>Estado</th>\n",
       "      <th>Dir2</th>\n",
       "      <th>Full_Address</th>\n",
       "      <th>Coords</th>\n",
       "    </tr>\n",
       "  </thead>\n",
       "  <tbody>\n",
       "    <tr>\n",
       "      <th>0</th>\n",
       "      <td>2022</td>\n",
       "      <td>6</td>\n",
       "      <td>5</td>\n",
       "      <td>ANTIOQUIA</td>\n",
       "      <td>5266</td>\n",
       "      <td>ENVIGADO</td>\n",
       "      <td>ESTACION DE SERVICIOS PREMIUM LA SEBASTIANA</td>\n",
       "      <td>TEXACO</td>\n",
       "      <td>CARRERA 27 No. 36 SUR-199</td>\n",
       "      <td>GASOLINA CORRIENTE OXIGENADA</td>\n",
       "      <td>9710.0</td>\n",
       "      <td>A</td>\n",
       "      <td>CARRERA 27 No. 36 SUR-199</td>\n",
       "      <td>CARRERA 27 No. 36 SUR-199, Envigado, Colombia</td>\n",
       "      <td>(6.16364, -75.56929)</td>\n",
       "    </tr>\n",
       "    <tr>\n",
       "      <th>1</th>\n",
       "      <td>2022</td>\n",
       "      <td>6</td>\n",
       "      <td>5</td>\n",
       "      <td>ANTIOQUIA</td>\n",
       "      <td>5266</td>\n",
       "      <td>ENVIGADO</td>\n",
       "      <td>ESTACION DE SERVICIOS PREMIUM LA SEBASTIANA</td>\n",
       "      <td>TEXACO</td>\n",
       "      <td>CARRERA 27 No. 36 SUR-199</td>\n",
       "      <td>BIODIESEL EXTRA</td>\n",
       "      <td>10510.0</td>\n",
       "      <td>A</td>\n",
       "      <td>CARRERA 27 No. 36 SUR-199</td>\n",
       "      <td>CARRERA 27 No. 36 SUR-199, Envigado, Colombia</td>\n",
       "      <td>(6.16364, -75.56929)</td>\n",
       "    </tr>\n",
       "  </tbody>\n",
       "</table>\n",
       "</div>"
      ],
      "text/plain": [
       "   Periodo  Mes  Codigo_departamento Departamento  Codigo_municipio Municipio  \\\n",
       "0     2022    6                    5    ANTIOQUIA              5266  ENVIGADO   \n",
       "1     2022    6                    5    ANTIOQUIA              5266  ENVIGADO   \n",
       "\n",
       "                              Nombre_comercial Bandera  \\\n",
       "0  ESTACION DE SERVICIOS PREMIUM LA SEBASTIANA  TEXACO   \n",
       "1  ESTACION DE SERVICIOS PREMIUM LA SEBASTIANA  TEXACO   \n",
       "\n",
       "                   Direccion                      Producto   Precio Estado  \\\n",
       "0  CARRERA 27 No. 36 SUR-199  GASOLINA CORRIENTE OXIGENADA   9710.0      A   \n",
       "1  CARRERA 27 No. 36 SUR-199               BIODIESEL EXTRA  10510.0      A   \n",
       "\n",
       "                        Dir2                                   Full_Address  \\\n",
       "0  CARRERA 27 No. 36 SUR-199  CARRERA 27 No. 36 SUR-199, Envigado, Colombia   \n",
       "1  CARRERA 27 No. 36 SUR-199  CARRERA 27 No. 36 SUR-199, Envigado, Colombia   \n",
       "\n",
       "                 Coords  \n",
       "0  (6.16364, -75.56929)  \n",
       "1  (6.16364, -75.56929)  "
      ]
     },
     "execution_count": 4,
     "metadata": {},
     "output_type": "execute_result"
    }
   ],
   "source": [
    "df_map.head(2)"
   ]
  },
  {
   "cell_type": "code",
   "execution_count": 5,
   "id": "33d9bad4",
   "metadata": {},
   "outputs": [],
   "source": [
    "df_map = df_map.drop_duplicates(subset=['Nombre_comercial','Bandera','Producto'])"
   ]
  },
  {
   "cell_type": "code",
   "execution_count": 6,
   "id": "205dbd05",
   "metadata": {},
   "outputs": [
    {
     "data": {
      "text/plain": [
       "1385"
      ]
     },
     "execution_count": 6,
     "metadata": {},
     "output_type": "execute_result"
    }
   ],
   "source": [
    "len(df_map)"
   ]
  },
  {
   "cell_type": "code",
   "execution_count": 7,
   "id": "7f84dfe2",
   "metadata": {},
   "outputs": [
    {
     "data": {
      "text/plain": [
       "('NA', 'NA')            31\n",
       "(4.61872, -74.07497)     6\n",
       "(4.60302, -74.14303)     5\n",
       "(4.66782, -74.05365)     4\n",
       "(6.15239, -75.40712)     4\n",
       "                        ..\n",
       "(6.23586, -75.55636)     1\n",
       "(6.2101, -75.56933)      1\n",
       "(6.27469, -75.5754)      1\n",
       "(4.59945, -74.11045)     1\n",
       "(4.75523, -74.06481)     1\n",
       "Name: Coords, Length: 516, dtype: int64"
      ]
     },
     "execution_count": 7,
     "metadata": {},
     "output_type": "execute_result"
    }
   ],
   "source": [
    "df_map['Coords'].value_counts()"
   ]
  },
  {
   "cell_type": "code",
   "execution_count": 8,
   "id": "0c2e3563",
   "metadata": {},
   "outputs": [
    {
     "data": {
      "text/plain": [
       "array(['CALLE 84 SUR No.29-51 VARIANTE DE CALDAS KILOMETRO 1',\n",
       "       'Avenida Carrera 30 # 2 - 38', 'CRA 17 # 50-42',\n",
       "       'CALLE 80 # 24-30', 'Carrera 73 # 36A - 55 Sur',\n",
       "       'Calle 13 # 38 - 25', 'Calle 19 # 33 - 68', 'Carrera 7 # 84 - 91',\n",
       "       'CR 63 NO. 57 G - 74 Sur', 'cra70#44-23', 'Carrera 65 # 30 - 40',\n",
       "       'DIAGONAL 51 # 35 - 120'], dtype=object)"
      ]
     },
     "execution_count": 8,
     "metadata": {},
     "output_type": "execute_result"
    }
   ],
   "source": [
    "df_map[df_map['Coords']==\"('NA', 'NA')\"]['Direccion'].unique()"
   ]
  },
  {
   "cell_type": "code",
   "execution_count": 9,
   "id": "2559de8d",
   "metadata": {},
   "outputs": [
    {
     "name": "stdout",
     "output_type": "stream",
     "text": [
      "<class 'pandas.core.frame.DataFrame'>\n",
      "Int64Index: 1385 entries, 0 to 3108\n",
      "Data columns (total 15 columns):\n",
      " #   Column               Non-Null Count  Dtype  \n",
      "---  ------               --------------  -----  \n",
      " 0   Periodo              1385 non-null   int64  \n",
      " 1   Mes                  1385 non-null   int64  \n",
      " 2   Codigo_departamento  1385 non-null   int64  \n",
      " 3   Departamento         1385 non-null   object \n",
      " 4   Codigo_municipio     1385 non-null   int64  \n",
      " 5   Municipio            1385 non-null   object \n",
      " 6   Nombre_comercial     1385 non-null   object \n",
      " 7   Bandera              1385 non-null   object \n",
      " 8   Direccion            1385 non-null   object \n",
      " 9   Producto             1385 non-null   object \n",
      " 10  Precio               1385 non-null   float64\n",
      " 11  Estado               1385 non-null   object \n",
      " 12  Dir2                 1385 non-null   object \n",
      " 13  Full_Address         1385 non-null   object \n",
      " 14  Coords               1385 non-null   object \n",
      "dtypes: float64(1), int64(4), object(10)\n",
      "memory usage: 173.1+ KB\n"
     ]
    }
   ],
   "source": [
    "df_map.info()"
   ]
  },
  {
   "cell_type": "code",
   "execution_count": 10,
   "id": "50a66d09",
   "metadata": {},
   "outputs": [
    {
     "data": {
      "text/plain": [
       "'(6.16364, -75.56929)'"
      ]
     },
     "execution_count": 10,
     "metadata": {},
     "output_type": "execute_result"
    }
   ],
   "source": [
    "df_map['Coords'][0]"
   ]
  },
  {
   "cell_type": "code",
   "execution_count": 11,
   "id": "3cb48a7c",
   "metadata": {},
   "outputs": [
    {
     "data": {
      "text/plain": [
       "6.16364"
      ]
     },
     "execution_count": 11,
     "metadata": {},
     "output_type": "execute_result"
    }
   ],
   "source": [
    "float(df_map['Coords'][0].replace('(','').replace(')','').split(',')[0]) # Lat"
   ]
  },
  {
   "cell_type": "code",
   "execution_count": 12,
   "id": "6e37555b",
   "metadata": {},
   "outputs": [
    {
     "data": {
      "text/plain": [
       "-75.56929"
      ]
     },
     "execution_count": 12,
     "metadata": {},
     "output_type": "execute_result"
    }
   ],
   "source": [
    "float(df_map['Coords'][0].replace('(','').replace(')','').split(',')[1].strip()) # Longitud"
   ]
  },
  {
   "cell_type": "code",
   "execution_count": 13,
   "id": "134ba5be",
   "metadata": {},
   "outputs": [],
   "source": [
    "df_map['LAT'] = df_map['Coords'].apply(lambda x : float(x.replace('(','').replace(')','').split(',')[0]) if x !=  \"('NA', 'NA')\"  else 'Empty')\n",
    "df_map['LNG'] = df_map['Coords'].apply(lambda x : float(x.replace('(','').replace(')','').split(',')[1]) if x !=  \"('NA', 'NA')\"  else 'Empty')"
   ]
  },
  {
   "cell_type": "code",
   "execution_count": 14,
   "id": "83d53e9c",
   "metadata": {},
   "outputs": [
    {
     "data": {
      "text/plain": [
       "Empty      31\n",
       "6.17904     6\n",
       "4.61872     6\n",
       "4.6169      5\n",
       "4.60302     5\n",
       "           ..\n",
       "6.20779     1\n",
       "6.27469     1\n",
       "6.18165     1\n",
       "6.28017     1\n",
       "4.69078     1\n",
       "Name: LAT, Length: 513, dtype: int64"
      ]
     },
     "execution_count": 14,
     "metadata": {},
     "output_type": "execute_result"
    }
   ],
   "source": [
    "df_map['LAT'].value_counts()"
   ]
  },
  {
   "cell_type": "code",
   "execution_count": 15,
   "id": "9d1b5de0",
   "metadata": {},
   "outputs": [
    {
     "data": {
      "text/plain": [
       "Empty        31\n",
       "-75.56143     6\n",
       "-74.07497     6\n",
       "-75.55736     6\n",
       "-75.5892      6\n",
       "             ..\n",
       "-75.24155     1\n",
       "-74.17924     1\n",
       "-75.5754      1\n",
       "-75.55636     1\n",
       "-74.06481     1\n",
       "Name: LNG, Length: 510, dtype: int64"
      ]
     },
     "execution_count": 15,
     "metadata": {},
     "output_type": "execute_result"
    }
   ],
   "source": [
    "df_map['LNG'].value_counts()"
   ]
  },
  {
   "cell_type": "markdown",
   "id": "2a260484",
   "metadata": {},
   "source": [
    "# Funciones a usar "
   ]
  },
  {
   "cell_type": "code",
   "execution_count": 16,
   "id": "43474334",
   "metadata": {},
   "outputs": [],
   "source": [
    "def GetLatLon2(Address,YOUR_API_KEY): \n",
    "\n",
    "    url2_geocode  = f'https://geocode.search.hereapi.com/v1/geocode?q={Address}&apiKey='+YOUR_API_KEY\n",
    "    \n",
    "    try:\n",
    "        response = requests.get(url2_geocode).json()\n",
    "        CleanAddress = response['items'][0]['title'].upper()\n",
    "        LAT = response['items'][0]['position']['lat']\n",
    "        LON = response['items'][0]['position']['lng']\n",
    "        results = [CleanAddress,round(LAT,7),round(LON,7)]\n",
    "    except:\n",
    "        results = ['NotFound','NA','NA']\n",
    "    return results\n",
    "\n",
    "def GetLatLon2_google(Address,YOUR_API_KEY): \n",
    "\n",
    "    api_url = f'https://maps.googleapis.com/maps/api/geocode/json?address={Address}&key={YOUR_API_KEY}'\n",
    "    try:\n",
    "        j = requests.get(api_url).json()\n",
    "        CleanAddress = str(j['results'][0]['formatted_address']).upper()\n",
    "        LAT = j['results'][0]['geometry']['location']['lat']\n",
    "        LON = j['results'][0]['geometry']['location']['lng']\n",
    "        results = [CleanAddress,round(LAT,7),round(LON,7)]\n",
    "    except:\n",
    "        results = ['NotFound','NA','NA']\n",
    "    return results,j \n",
    "\n",
    "\n",
    "def cal_dist(geo_source,point2,unit):\n",
    "    \n",
    "    \n",
    "    if unit == 'Km':\n",
    "        distance = haversine(geo_source, point2,Unit.KILOMETERS)\n",
    "    elif unit == 'm':\n",
    "        distance = haversine(geo_source, point2,Unit.METERS)\n",
    "    elif unit == 'miles':\n",
    "        distance = haversine(geo_source, point2,Unit.MILES)\n",
    "    \n",
    "    return round(distance,2)\n",
    "\n",
    "\n",
    "def distance_estac(geo_source,df,radio,unit):\n",
    "    \n",
    "    \n",
    "    distancia = []\n",
    "    source = []\n",
    "\n",
    "\n",
    "    for i in tqdm(range(len(df)),colour = 'green'):\n",
    "        distancia.append(cal_dist(geo_source,df['POINT'][i],unit))\n",
    "        source.append(geo_source)\n",
    "\n",
    "    new_df = df.copy()\n",
    "    new_df['SOURCE'] = source\n",
    "    new_df['DISTANCE'] = distancia\n",
    "    new_df = new_df[new_df['DISTANCE']<=radio]\n",
    "    new_df = new_df.reset_index()\n",
    "    new_df = new_df.drop(columns ='index')\n",
    "    return new_df.sort_values(by='DISTANCE',ascending=True)\n",
    "\n",
    "def transform_df_map(df):\n",
    "    \n",
    "\n",
    "    coordenadas = []\n",
    "\n",
    "    for i in range(len(df)):\n",
    "        \n",
    "        try :\n",
    "            \n",
    "            coord = float(df['LAT'][i]),float(df['LNG'][i])\n",
    "            coordenadas.append(coord)\n",
    "\n",
    "        except :\n",
    "            \n",
    "            coordenadas.append('EMPTY')\n",
    "            \n",
    "    df['POINT'] = coordenadas\n",
    "    df = df[df['POINT']!='EMPTY']\n",
    "    df = df.reset_index()\n",
    "    df = df.drop(columns = 'index')\n",
    "    new_df = df.copy()\n",
    "    \n",
    "    return new_df"
   ]
  },
  {
   "cell_type": "markdown",
   "id": "9fd59b77",
   "metadata": {},
   "source": [
    "# Paso a Paso de la App\n",
    "\n",
    "1. Filtrar la ciudad\n",
    "2. Ingresar la central location\n",
    "3. Configurar el radio y la unidad de medida\n",
    "4. Calcular la distancia\n"
   ]
  },
  {
   "cell_type": "markdown",
   "id": "ad6692f9",
   "metadata": {},
   "source": [
    "# Filtrar ciudad"
   ]
  },
  {
   "cell_type": "code",
   "execution_count": 17,
   "id": "c6f2d013",
   "metadata": {},
   "outputs": [
    {
     "data": {
      "text/plain": [
       "['ENVIGADO',\n",
       " 'RIONEGRO',\n",
       " 'SABANETA',\n",
       " 'BOGOTA, D.C.',\n",
       " 'MEDELLIN',\n",
       " 'BELLO',\n",
       " 'ITAGUI']"
      ]
     },
     "execution_count": 17,
     "metadata": {},
     "output_type": "execute_result"
    }
   ],
   "source": [
    "cities = list(df_map['Municipio'].unique())\n",
    "cities"
   ]
  },
  {
   "cell_type": "code",
   "execution_count": 18,
   "id": "a93c6ee1",
   "metadata": {},
   "outputs": [
    {
     "name": "stderr",
     "output_type": "stream",
     "text": [
      "/mnt/c/INFO_VIP/INFO_ALEX/SPARK/google_scraper/new_scraper_google_algoritm/google_datexland_env/lib/python3.8/site-packages/pandas/core/frame.py:4906: SettingWithCopyWarning: \n",
      "A value is trying to be set on a copy of a slice from a DataFrame\n",
      "\n",
      "See the caveats in the documentation: https://pandas.pydata.org/pandas-docs/stable/user_guide/indexing.html#returning-a-view-versus-a-copy\n",
      "  return super().drop(\n"
     ]
    }
   ],
   "source": [
    "df_city = df_map[df_map['Municipio']==cities[3]]\n",
    "df_city.reset_index(inplace =  True)\n",
    "df_city.drop(columns= 'index' , inplace = True)"
   ]
  },
  {
   "cell_type": "code",
   "execution_count": 19,
   "id": "647c587f",
   "metadata": {},
   "outputs": [
    {
     "data": {
      "text/html": [
       "<div>\n",
       "<style scoped>\n",
       "    .dataframe tbody tr th:only-of-type {\n",
       "        vertical-align: middle;\n",
       "    }\n",
       "\n",
       "    .dataframe tbody tr th {\n",
       "        vertical-align: top;\n",
       "    }\n",
       "\n",
       "    .dataframe thead th {\n",
       "        text-align: right;\n",
       "    }\n",
       "</style>\n",
       "<table border=\"1\" class=\"dataframe\">\n",
       "  <thead>\n",
       "    <tr style=\"text-align: right;\">\n",
       "      <th></th>\n",
       "      <th>Periodo</th>\n",
       "      <th>Mes</th>\n",
       "      <th>Codigo_departamento</th>\n",
       "      <th>Departamento</th>\n",
       "      <th>Codigo_municipio</th>\n",
       "      <th>Municipio</th>\n",
       "      <th>Nombre_comercial</th>\n",
       "      <th>Bandera</th>\n",
       "      <th>Direccion</th>\n",
       "      <th>Producto</th>\n",
       "      <th>Precio</th>\n",
       "      <th>Estado</th>\n",
       "      <th>Dir2</th>\n",
       "      <th>Full_Address</th>\n",
       "      <th>Coords</th>\n",
       "      <th>LAT</th>\n",
       "      <th>LNG</th>\n",
       "    </tr>\n",
       "  </thead>\n",
       "  <tbody>\n",
       "    <tr>\n",
       "      <th>0</th>\n",
       "      <td>2022</td>\n",
       "      <td>6</td>\n",
       "      <td>11</td>\n",
       "      <td>BOGOTA D.C.</td>\n",
       "      <td>11001</td>\n",
       "      <td>BOGOTA, D.C.</td>\n",
       "      <td>EDS EL LLANO</td>\n",
       "      <td>PETROBRAS</td>\n",
       "      <td>CALLE 163 No. 72-50</td>\n",
       "      <td>GASOLINA EXTRA OXIGENADA</td>\n",
       "      <td>18500.0</td>\n",
       "      <td>A</td>\n",
       "      <td>CALLE 163 No. 72-50</td>\n",
       "      <td>CALLE 163 No. 72-50, Bogota, d.c., Colombia</td>\n",
       "      <td>(4.74739, -74.06543)</td>\n",
       "      <td>4.74739</td>\n",
       "      <td>-74.06543</td>\n",
       "    </tr>\n",
       "    <tr>\n",
       "      <th>1</th>\n",
       "      <td>2022</td>\n",
       "      <td>6</td>\n",
       "      <td>11</td>\n",
       "      <td>BOGOTA D.C.</td>\n",
       "      <td>11001</td>\n",
       "      <td>BOGOTA, D.C.</td>\n",
       "      <td>EDS EL LLANO</td>\n",
       "      <td>PETROBRAS</td>\n",
       "      <td>CALLE 163 No. 72-50</td>\n",
       "      <td>BIODIESEL EXTRA</td>\n",
       "      <td>9200.0</td>\n",
       "      <td>A</td>\n",
       "      <td>CALLE 163 No. 72-50</td>\n",
       "      <td>CALLE 163 No. 72-50, Bogota, d.c., Colombia</td>\n",
       "      <td>(4.74739, -74.06543)</td>\n",
       "      <td>4.74739</td>\n",
       "      <td>-74.06543</td>\n",
       "    </tr>\n",
       "  </tbody>\n",
       "</table>\n",
       "</div>"
      ],
      "text/plain": [
       "   Periodo  Mes  Codigo_departamento Departamento  Codigo_municipio  \\\n",
       "0     2022    6                   11  BOGOTA D.C.             11001   \n",
       "1     2022    6                   11  BOGOTA D.C.             11001   \n",
       "\n",
       "      Municipio Nombre_comercial    Bandera            Direccion  \\\n",
       "0  BOGOTA, D.C.     EDS EL LLANO  PETROBRAS  CALLE 163 No. 72-50   \n",
       "1  BOGOTA, D.C.     EDS EL LLANO  PETROBRAS  CALLE 163 No. 72-50   \n",
       "\n",
       "                   Producto   Precio Estado                 Dir2  \\\n",
       "0  GASOLINA EXTRA OXIGENADA  18500.0      A  CALLE 163 No. 72-50   \n",
       "1           BIODIESEL EXTRA   9200.0      A  CALLE 163 No. 72-50   \n",
       "\n",
       "                                  Full_Address                Coords      LAT  \\\n",
       "0  CALLE 163 No. 72-50, Bogota, d.c., Colombia  (4.74739, -74.06543)  4.74739   \n",
       "1  CALLE 163 No. 72-50, Bogota, d.c., Colombia  (4.74739, -74.06543)  4.74739   \n",
       "\n",
       "        LNG  \n",
       "0 -74.06543  \n",
       "1 -74.06543  "
      ]
     },
     "execution_count": 19,
     "metadata": {},
     "output_type": "execute_result"
    }
   ],
   "source": [
    "df_city.head(2)"
   ]
  },
  {
   "cell_type": "code",
   "execution_count": 20,
   "id": "130be228",
   "metadata": {},
   "outputs": [],
   "source": [
    "central_location = 'CC Multiplaza , Bogotá'\n",
    "central_location = central_location.replace('#','No')\n",
    "R = GetLatLon2(central_location,YOUR_API_KEY)"
   ]
  },
  {
   "cell_type": "code",
   "execution_count": 21,
   "id": "6e8a883e",
   "metadata": {},
   "outputs": [
    {
     "data": {
      "text/plain": [
       "(4.65226, -74.12695)"
      ]
     },
     "execution_count": 21,
     "metadata": {},
     "output_type": "execute_result"
    }
   ],
   "source": [
    "geo_source = R[1],R[2]\n",
    "geo_source"
   ]
  },
  {
   "cell_type": "code",
   "execution_count": 22,
   "id": "31639e08",
   "metadata": {},
   "outputs": [],
   "source": [
    "radio = 1\n",
    "unit = 'Km'"
   ]
  },
  {
   "cell_type": "code",
   "execution_count": 23,
   "id": "c207713c",
   "metadata": {},
   "outputs": [
    {
     "name": "stderr",
     "output_type": "stream",
     "text": [
      "/tmp/ipykernel_21517/2018751417.py:77: SettingWithCopyWarning: \n",
      "A value is trying to be set on a copy of a slice from a DataFrame.\n",
      "Try using .loc[row_indexer,col_indexer] = value instead\n",
      "\n",
      "See the caveats in the documentation: https://pandas.pydata.org/pandas-docs/stable/user_guide/indexing.html#returning-a-view-versus-a-copy\n",
      "  df['POINT'] = coordenadas\n"
     ]
    },
    {
     "data": {
      "text/html": [
       "<div>\n",
       "<style scoped>\n",
       "    .dataframe tbody tr th:only-of-type {\n",
       "        vertical-align: middle;\n",
       "    }\n",
       "\n",
       "    .dataframe tbody tr th {\n",
       "        vertical-align: top;\n",
       "    }\n",
       "\n",
       "    .dataframe thead th {\n",
       "        text-align: right;\n",
       "    }\n",
       "</style>\n",
       "<table border=\"1\" class=\"dataframe\">\n",
       "  <thead>\n",
       "    <tr style=\"text-align: right;\">\n",
       "      <th></th>\n",
       "      <th>Periodo</th>\n",
       "      <th>Mes</th>\n",
       "      <th>Codigo_departamento</th>\n",
       "      <th>Departamento</th>\n",
       "      <th>Codigo_municipio</th>\n",
       "      <th>Municipio</th>\n",
       "      <th>Nombre_comercial</th>\n",
       "      <th>Bandera</th>\n",
       "      <th>Direccion</th>\n",
       "      <th>Producto</th>\n",
       "      <th>Precio</th>\n",
       "      <th>Estado</th>\n",
       "      <th>Dir2</th>\n",
       "      <th>Full_Address</th>\n",
       "      <th>Coords</th>\n",
       "      <th>LAT</th>\n",
       "      <th>LNG</th>\n",
       "      <th>POINT</th>\n",
       "    </tr>\n",
       "  </thead>\n",
       "  <tbody>\n",
       "    <tr>\n",
       "      <th>0</th>\n",
       "      <td>2022</td>\n",
       "      <td>6</td>\n",
       "      <td>11</td>\n",
       "      <td>BOGOTA D.C.</td>\n",
       "      <td>11001</td>\n",
       "      <td>BOGOTA, D.C.</td>\n",
       "      <td>EDS EL LLANO</td>\n",
       "      <td>PETROBRAS</td>\n",
       "      <td>CALLE 163 No. 72-50</td>\n",
       "      <td>GASOLINA EXTRA OXIGENADA</td>\n",
       "      <td>18500.0</td>\n",
       "      <td>A</td>\n",
       "      <td>CALLE 163 No. 72-50</td>\n",
       "      <td>CALLE 163 No. 72-50, Bogota, d.c., Colombia</td>\n",
       "      <td>(4.74739, -74.06543)</td>\n",
       "      <td>4.74739</td>\n",
       "      <td>-74.06543</td>\n",
       "      <td>(4.74739, -74.06543)</td>\n",
       "    </tr>\n",
       "    <tr>\n",
       "      <th>1</th>\n",
       "      <td>2022</td>\n",
       "      <td>6</td>\n",
       "      <td>11</td>\n",
       "      <td>BOGOTA D.C.</td>\n",
       "      <td>11001</td>\n",
       "      <td>BOGOTA, D.C.</td>\n",
       "      <td>EDS EL LLANO</td>\n",
       "      <td>PETROBRAS</td>\n",
       "      <td>CALLE 163 No. 72-50</td>\n",
       "      <td>BIODIESEL EXTRA</td>\n",
       "      <td>9200.0</td>\n",
       "      <td>A</td>\n",
       "      <td>CALLE 163 No. 72-50</td>\n",
       "      <td>CALLE 163 No. 72-50, Bogota, d.c., Colombia</td>\n",
       "      <td>(4.74739, -74.06543)</td>\n",
       "      <td>4.74739</td>\n",
       "      <td>-74.06543</td>\n",
       "      <td>(4.74739, -74.06543)</td>\n",
       "    </tr>\n",
       "  </tbody>\n",
       "</table>\n",
       "</div>"
      ],
      "text/plain": [
       "   Periodo  Mes  Codigo_departamento Departamento  Codigo_municipio  \\\n",
       "0     2022    6                   11  BOGOTA D.C.             11001   \n",
       "1     2022    6                   11  BOGOTA D.C.             11001   \n",
       "\n",
       "      Municipio Nombre_comercial    Bandera            Direccion  \\\n",
       "0  BOGOTA, D.C.     EDS EL LLANO  PETROBRAS  CALLE 163 No. 72-50   \n",
       "1  BOGOTA, D.C.     EDS EL LLANO  PETROBRAS  CALLE 163 No. 72-50   \n",
       "\n",
       "                   Producto   Precio Estado                 Dir2  \\\n",
       "0  GASOLINA EXTRA OXIGENADA  18500.0      A  CALLE 163 No. 72-50   \n",
       "1           BIODIESEL EXTRA   9200.0      A  CALLE 163 No. 72-50   \n",
       "\n",
       "                                  Full_Address                Coords      LAT  \\\n",
       "0  CALLE 163 No. 72-50, Bogota, d.c., Colombia  (4.74739, -74.06543)  4.74739   \n",
       "1  CALLE 163 No. 72-50, Bogota, d.c., Colombia  (4.74739, -74.06543)  4.74739   \n",
       "\n",
       "        LNG                 POINT  \n",
       "0 -74.06543  (4.74739, -74.06543)  \n",
       "1 -74.06543  (4.74739, -74.06543)  "
      ]
     },
     "execution_count": 23,
     "metadata": {},
     "output_type": "execute_result"
    }
   ],
   "source": [
    "df_city =  transform_df_map(df_city)\n",
    "df_city.head(2)"
   ]
  },
  {
   "cell_type": "code",
   "execution_count": 24,
   "id": "4c140f7a",
   "metadata": {},
   "outputs": [
    {
     "data": {
      "text/plain": [
       "(4.74739, -74.06543)"
      ]
     },
     "execution_count": 24,
     "metadata": {},
     "output_type": "execute_result"
    }
   ],
   "source": [
    "df_city['POINT'][0]"
   ]
  },
  {
   "cell_type": "code",
   "execution_count": 25,
   "id": "82601292",
   "metadata": {},
   "outputs": [
    {
     "name": "stderr",
     "output_type": "stream",
     "text": [
      "100%|\u001b[32m█████████████████████████████████████████████████████████████████████████████\u001b[0m| 867/867 [00:00<00:00, 123845.03it/s]\u001b[0m\n"
     ]
    }
   ],
   "source": [
    "results = distance_estac(geo_source,df_city,radio,unit)\n",
    "results.reset_index(inplace =  True)\n",
    "results.drop(columns= 'index' , inplace = True)"
   ]
  },
  {
   "cell_type": "code",
   "execution_count": 26,
   "id": "d5beefce",
   "metadata": {},
   "outputs": [
    {
     "data": {
      "text/plain": [
       "array(['EDS ESSO INDUSTRIAL BOYACA',\n",
       "       'ESTACION DE SERVICIO MILENIUM GAS CALLE 13',\n",
       "       'ESTACION DE SERVICIO TERPEL VILLA ALZACIA',\n",
       "       'ESTACION DE SERVICIO VILLA ALSACIA'], dtype=object)"
      ]
     },
     "execution_count": 26,
     "metadata": {},
     "output_type": "execute_result"
    }
   ],
   "source": [
    "results['Nombre_comercial'].unique()"
   ]
  },
  {
   "cell_type": "code",
   "execution_count": 27,
   "id": "c7bb2a2d",
   "metadata": {},
   "outputs": [
    {
     "data": {
      "text/plain": [
       "array(['GASOLINA EXTRA OXIGENADA', 'GASOLINA CORRIENTE OXIGENADA',\n",
       "       'BIODIESEL EXTRA'], dtype=object)"
      ]
     },
     "execution_count": 27,
     "metadata": {},
     "output_type": "execute_result"
    }
   ],
   "source": [
    "results['Producto'].unique()"
   ]
  },
  {
   "cell_type": "code",
   "execution_count": 28,
   "id": "ddc68258",
   "metadata": {},
   "outputs": [
    {
     "data": {
      "text/plain": [
       "pandas.core.frame.DataFrame"
      ]
     },
     "execution_count": 28,
     "metadata": {},
     "output_type": "execute_result"
    }
   ],
   "source": [
    "type(results)"
   ]
  },
  {
   "cell_type": "code",
   "execution_count": 29,
   "id": "bdea799a",
   "metadata": {},
   "outputs": [],
   "source": [
    "gdf_results = GeoDataFrame(results,\n",
    "                          geometry =  points_from_xy(results.LNG,results.LAT))"
   ]
  },
  {
   "cell_type": "code",
   "execution_count": 30,
   "id": "b259b4f3",
   "metadata": {},
   "outputs": [
    {
     "data": {
      "text/plain": [
       "geopandas.geodataframe.GeoDataFrame"
      ]
     },
     "execution_count": 30,
     "metadata": {},
     "output_type": "execute_result"
    }
   ],
   "source": [
    "type(gdf_results)"
   ]
  },
  {
   "cell_type": "code",
   "execution_count": 31,
   "id": "096c8ad8",
   "metadata": {},
   "outputs": [
    {
     "data": {
      "text/html": [
       "<div>\n",
       "<style scoped>\n",
       "    .dataframe tbody tr th:only-of-type {\n",
       "        vertical-align: middle;\n",
       "    }\n",
       "\n",
       "    .dataframe tbody tr th {\n",
       "        vertical-align: top;\n",
       "    }\n",
       "\n",
       "    .dataframe thead th {\n",
       "        text-align: right;\n",
       "    }\n",
       "</style>\n",
       "<table border=\"1\" class=\"dataframe\">\n",
       "  <thead>\n",
       "    <tr style=\"text-align: right;\">\n",
       "      <th></th>\n",
       "      <th>Periodo</th>\n",
       "      <th>Mes</th>\n",
       "      <th>Codigo_departamento</th>\n",
       "      <th>Departamento</th>\n",
       "      <th>Codigo_municipio</th>\n",
       "      <th>Municipio</th>\n",
       "      <th>Nombre_comercial</th>\n",
       "      <th>Bandera</th>\n",
       "      <th>Direccion</th>\n",
       "      <th>Producto</th>\n",
       "      <th>...</th>\n",
       "      <th>Estado</th>\n",
       "      <th>Dir2</th>\n",
       "      <th>Full_Address</th>\n",
       "      <th>Coords</th>\n",
       "      <th>LAT</th>\n",
       "      <th>LNG</th>\n",
       "      <th>POINT</th>\n",
       "      <th>SOURCE</th>\n",
       "      <th>DISTANCE</th>\n",
       "      <th>geometry</th>\n",
       "    </tr>\n",
       "  </thead>\n",
       "  <tbody>\n",
       "    <tr>\n",
       "      <th>0</th>\n",
       "      <td>2022</td>\n",
       "      <td>6</td>\n",
       "      <td>11</td>\n",
       "      <td>BOGOTA D.C.</td>\n",
       "      <td>11001</td>\n",
       "      <td>BOGOTA, D.C.</td>\n",
       "      <td>EDS ESSO INDUSTRIAL BOYACA</td>\n",
       "      <td>MOBIL</td>\n",
       "      <td>CARRERA 71 No. 19-05</td>\n",
       "      <td>GASOLINA EXTRA OXIGENADA</td>\n",
       "      <td>...</td>\n",
       "      <td>A</td>\n",
       "      <td>CARRERA 71 No. 19-05</td>\n",
       "      <td>CARRERA 71 No. 19-05, Bogota, d.c., Colombia</td>\n",
       "      <td>(4.65127, -74.1234)</td>\n",
       "      <td>4.65127</td>\n",
       "      <td>-74.1234</td>\n",
       "      <td>(4.65127, -74.1234)</td>\n",
       "      <td>(4.65226, -74.12695)</td>\n",
       "      <td>0.41</td>\n",
       "      <td>POINT (-74.12340 4.65127)</td>\n",
       "    </tr>\n",
       "    <tr>\n",
       "      <th>1</th>\n",
       "      <td>2022</td>\n",
       "      <td>6</td>\n",
       "      <td>11</td>\n",
       "      <td>BOGOTA D.C.</td>\n",
       "      <td>11001</td>\n",
       "      <td>BOGOTA, D.C.</td>\n",
       "      <td>EDS ESSO INDUSTRIAL BOYACA</td>\n",
       "      <td>MOBIL</td>\n",
       "      <td>CARRERA 71 No. 19-05</td>\n",
       "      <td>GASOLINA CORRIENTE OXIGENADA</td>\n",
       "      <td>...</td>\n",
       "      <td>A</td>\n",
       "      <td>CARRERA 71 No. 19-05</td>\n",
       "      <td>CARRERA 71 No. 19-05, Bogota, d.c., Colombia</td>\n",
       "      <td>(4.65127, -74.1234)</td>\n",
       "      <td>4.65127</td>\n",
       "      <td>-74.1234</td>\n",
       "      <td>(4.65127, -74.1234)</td>\n",
       "      <td>(4.65226, -74.12695)</td>\n",
       "      <td>0.41</td>\n",
       "      <td>POINT (-74.12340 4.65127)</td>\n",
       "    </tr>\n",
       "  </tbody>\n",
       "</table>\n",
       "<p>2 rows × 21 columns</p>\n",
       "</div>"
      ],
      "text/plain": [
       "   Periodo  Mes  Codigo_departamento Departamento  Codigo_municipio  \\\n",
       "0     2022    6                   11  BOGOTA D.C.             11001   \n",
       "1     2022    6                   11  BOGOTA D.C.             11001   \n",
       "\n",
       "      Municipio            Nombre_comercial Bandera             Direccion  \\\n",
       "0  BOGOTA, D.C.  EDS ESSO INDUSTRIAL BOYACA   MOBIL  CARRERA 71 No. 19-05   \n",
       "1  BOGOTA, D.C.  EDS ESSO INDUSTRIAL BOYACA   MOBIL  CARRERA 71 No. 19-05   \n",
       "\n",
       "                       Producto  ...  Estado                  Dir2  \\\n",
       "0      GASOLINA EXTRA OXIGENADA  ...       A  CARRERA 71 No. 19-05   \n",
       "1  GASOLINA CORRIENTE OXIGENADA  ...       A  CARRERA 71 No. 19-05   \n",
       "\n",
       "                                   Full_Address               Coords      LAT  \\\n",
       "0  CARRERA 71 No. 19-05, Bogota, d.c., Colombia  (4.65127, -74.1234)  4.65127   \n",
       "1  CARRERA 71 No. 19-05, Bogota, d.c., Colombia  (4.65127, -74.1234)  4.65127   \n",
       "\n",
       "       LNG                POINT                SOURCE DISTANCE  \\\n",
       "0 -74.1234  (4.65127, -74.1234)  (4.65226, -74.12695)     0.41   \n",
       "1 -74.1234  (4.65127, -74.1234)  (4.65226, -74.12695)     0.41   \n",
       "\n",
       "                    geometry  \n",
       "0  POINT (-74.12340 4.65127)  \n",
       "1  POINT (-74.12340 4.65127)  \n",
       "\n",
       "[2 rows x 21 columns]"
      ]
     },
     "execution_count": 31,
     "metadata": {},
     "output_type": "execute_result"
    }
   ],
   "source": [
    "gdf_results.head(2)"
   ]
  },
  {
   "cell_type": "code",
   "execution_count": 32,
   "id": "508114f6",
   "metadata": {},
   "outputs": [
    {
     "data": {
      "image/svg+xml": [
       "<svg xmlns=\"http://www.w3.org/2000/svg\" xmlns:xlink=\"http://www.w3.org/1999/xlink\" width=\"100.0\" height=\"100.0\" viewBox=\"-75.1234 3.6512700000000002 2.0 2.0\" preserveAspectRatio=\"xMinYMin meet\"><g transform=\"matrix(1,0,0,-1,0,9.30254)\"><circle cx=\"-74.1234\" cy=\"4.65127\" r=\"0.06\" stroke=\"#555555\" stroke-width=\"0.02\" fill=\"#66cc99\" opacity=\"0.6\" /></g></svg>"
      ],
      "text/plain": [
       "<shapely.geometry.point.Point at 0x7f32693b8640>"
      ]
     },
     "execution_count": 32,
     "metadata": {},
     "output_type": "execute_result"
    }
   ],
   "source": [
    "gdf_results['geometry'][0]"
   ]
  },
  {
   "cell_type": "code",
   "execution_count": 33,
   "id": "b55595e8",
   "metadata": {},
   "outputs": [
    {
     "data": {
      "text/plain": [
       "['GASOLINA EXTRA OXIGENADA', 'GASOLINA CORRIENTE OXIGENADA', 'BIODIESEL EXTRA']"
      ]
     },
     "execution_count": 33,
     "metadata": {},
     "output_type": "execute_result"
    }
   ],
   "source": [
    "oil = list(gdf_results['Producto'].unique())\n",
    "oil"
   ]
  },
  {
   "cell_type": "code",
   "execution_count": 34,
   "id": "1f663060",
   "metadata": {},
   "outputs": [
    {
     "name": "stderr",
     "output_type": "stream",
     "text": [
      "/mnt/c/INFO_VIP/INFO_ALEX/SPARK/google_scraper/new_scraper_google_algoritm/google_datexland_env/lib/python3.8/site-packages/pandas/core/frame.py:4906: SettingWithCopyWarning: \n",
      "A value is trying to be set on a copy of a slice from a DataFrame\n",
      "\n",
      "See the caveats in the documentation: https://pandas.pydata.org/pandas-docs/stable/user_guide/indexing.html#returning-a-view-versus-a-copy\n",
      "  return super().drop(\n"
     ]
    }
   ],
   "source": [
    "gdf_results_2 = gdf_results[gdf_results['Producto']==oil[1]]\n",
    "gdf_results_2.reset_index(inplace =  True)\n",
    "gdf_results_2.drop(columns= 'index' , inplace = True)"
   ]
  },
  {
   "cell_type": "code",
   "execution_count": 35,
   "id": "e4a35293",
   "metadata": {},
   "outputs": [
    {
     "data": {
      "text/plain": [
       "Index(['Periodo', 'Mes', 'Codigo_departamento', 'Departamento',\n",
       "       'Codigo_municipio', 'Municipio', 'Nombre_comercial', 'Bandera',\n",
       "       'Direccion', 'Producto', 'Precio', 'Estado', 'Dir2', 'Full_Address',\n",
       "       'Coords', 'LAT', 'LNG', 'POINT', 'SOURCE', 'DISTANCE', 'geometry'],\n",
       "      dtype='object')"
      ]
     },
     "execution_count": 35,
     "metadata": {},
     "output_type": "execute_result"
    }
   ],
   "source": [
    "gdf_results_2.columns"
   ]
  },
  {
   "cell_type": "code",
   "execution_count": 36,
   "id": "b8f72ebd",
   "metadata": {},
   "outputs": [
    {
     "data": {
      "text/plain": [
       "8630.0"
      ]
     },
     "execution_count": 36,
     "metadata": {},
     "output_type": "execute_result"
    }
   ],
   "source": [
    "gdf_results_2['Precio'].min()"
   ]
  },
  {
   "cell_type": "code",
   "execution_count": 37,
   "id": "6932f680",
   "metadata": {},
   "outputs": [
    {
     "data": {
      "text/plain": [
       "9630.0"
      ]
     },
     "execution_count": 37,
     "metadata": {},
     "output_type": "execute_result"
    }
   ],
   "source": [
    "gdf_results_2['Precio'].max()"
   ]
  },
  {
   "cell_type": "code",
   "execution_count": 38,
   "id": "93604752",
   "metadata": {},
   "outputs": [],
   "source": [
    "def marker_rest(df,mapa,unit,oil,icono):\n",
    "    \n",
    "    df = df[df['Producto']==oil]\n",
    "    df = df.reset_index()\n",
    "    df = df.drop(columns = 'index')\n",
    "    \n",
    "    for i in range(len(df)):\n",
    "        \n",
    "        if df['Precio'][i]==df['Precio'].min():\n",
    "        \n",
    "            html =  f\"\"\"<b>MARCA:</b> {df.Bandera[i]} <br>\n",
    "                    <b>NAME:</b> {df.Nombre_comercial[i]} <br>\n",
    "                    <b>PRODUCTO:</b> {df.Producto[i]} <br>\n",
    "                    <b>PRECIO:</b> {df.Precio[i]} <br>\n",
    "                    <b>DISTANCE:</b> {round(df.DISTANCE[i],2)}<br>\n",
    "                    <b>DIRECCION:</b> {df.Direccion[i]}<br>\n",
    "                    <b>UNIT:</b> {unit}<br>\"\"\"\n",
    "            iframe = folium.IFrame(html,figsize=(6, 3))\n",
    "            popup = folium.Popup(iframe)\n",
    "            \n",
    "\n",
    "\n",
    "\n",
    "            folium.Marker(location=[float(df['LAT'][i]),float(df['LNG'][i])],\n",
    "                               icon=folium.Icon(color='darkgreen', icon_color='white',\n",
    "                               icon=icono, prefix='glyphicon'),\n",
    "                               popup = popup).add_to(mapa)\n",
    "        \n",
    "        elif df['Precio'][i]==df['Precio'].max():\n",
    "        \n",
    "            html =  f\"\"\"<b>MARCA:</b> {df.Bandera[i]} <br>\n",
    "                    <b>NAME:</b> {df.Nombre_comercial[i]} <br>\n",
    "                    <b>PRODUCTO:</b> {df.Producto[i]} <br>\n",
    "                    <b>PRECIO:</b> {df.Precio[i]} <br>\n",
    "                    <b>DISTANCE:</b> {round(df.DISTANCE[i],2)}<br>\n",
    "                    <b>DIRECCION:</b> {df.Direccion[i]}<br>\n",
    "                    <b>UNIT:</b> {unit}<br>\"\"\"\n",
    "            iframe = folium.IFrame(html,figsize=(6, 3))\n",
    "            popup = folium.Popup(iframe)\n",
    "\n",
    "\n",
    "\n",
    "            folium.Marker(location=[float(df['LAT'][i]),float(df['LNG'][i])],\n",
    "                               icon=folium.Icon(color='darkred', icon_color='white',\n",
    "                               icon=icono, prefix='glyphicon'),\n",
    "                               popup =popup).add_to(mapa)\n",
    "        else :\n",
    "            html =  f\"\"\"<b>MARCA:</b> {df.Bandera[i]} <br>\n",
    "                    <b>NAME:</b> {df.Nombre_comercial[i]} <br>\n",
    "                    <b>PRODUCTO:</b> {df.Producto[i]} <br>\n",
    "                    <b>PRECIO:</b> {df.Precio[i]} <br>\n",
    "                    <b>DISTANCE:</b> {round(df.DISTANCE[i],2)}<br>\n",
    "                    <b>DIRECCION:</b> {df.Direccion[i]}<br>\n",
    "                    <b>UNIT:</b> {unit}<br>\"\"\"\n",
    "            iframe = folium.IFrame(html,figsize=(6, 3))\n",
    "            popup = folium.Popup(iframe)\n",
    "\n",
    "\n",
    "\n",
    "            folium.Marker(location=[float(df['LAT'][i]),float(df['LNG'][i])],\n",
    "                               icon=folium.Icon(color='orange', icon_color='white',\n",
    "                               icon=icono, prefix='glyphicon'),\n",
    "                               popup =popup).add_to(mapa)\n",
    "                           \n",
    "    return"
   ]
  },
  {
   "cell_type": "markdown",
   "id": "6ac3b35e",
   "metadata": {},
   "source": [
    "# Show Map"
   ]
  },
  {
   "cell_type": "code",
   "execution_count": 39,
   "id": "4aabc8a3",
   "metadata": {},
   "outputs": [
    {
     "data": {
      "text/html": [
       "<div style=\"width:100%;\"><div style=\"position:relative;width:100%;height:0;padding-bottom:60%;\"><span style=\"color:#565656\">Make this Notebook Trusted to load map: File -> Trust Notebook</span><iframe srcdoc=\"&lt;!DOCTYPE html&gt;\n",
       "&lt;head&gt;    \n",
       "    &lt;meta http-equiv=&quot;content-type&quot; content=&quot;text/html; charset=UTF-8&quot; /&gt;\n",
       "    &lt;script&gt;L_PREFER_CANVAS=false; L_NO_TOUCH=false; L_DISABLE_3D=false;&lt;/script&gt;\n",
       "    &lt;script src=&quot;https://cdn.jsdelivr.net/npm/leaflet@1.4.0/dist/leaflet.js&quot;&gt;&lt;/script&gt;\n",
       "    &lt;script src=&quot;https://code.jquery.com/jquery-1.12.4.min.js&quot;&gt;&lt;/script&gt;\n",
       "    &lt;script src=&quot;https://maxcdn.bootstrapcdn.com/bootstrap/3.2.0/js/bootstrap.min.js&quot;&gt;&lt;/script&gt;\n",
       "    &lt;script src=&quot;https://cdnjs.cloudflare.com/ajax/libs/Leaflet.awesome-markers/2.0.2/leaflet.awesome-markers.js&quot;&gt;&lt;/script&gt;\n",
       "    &lt;link rel=&quot;stylesheet&quot; href=&quot;https://cdn.jsdelivr.net/npm/leaflet@1.4.0/dist/leaflet.css&quot;/&gt;\n",
       "    &lt;link rel=&quot;stylesheet&quot; href=&quot;https://maxcdn.bootstrapcdn.com/bootstrap/3.2.0/css/bootstrap.min.css&quot;/&gt;\n",
       "    &lt;link rel=&quot;stylesheet&quot; href=&quot;https://maxcdn.bootstrapcdn.com/bootstrap/3.2.0/css/bootstrap-theme.min.css&quot;/&gt;\n",
       "    &lt;link rel=&quot;stylesheet&quot; href=&quot;https://maxcdn.bootstrapcdn.com/font-awesome/4.6.3/css/font-awesome.min.css&quot;/&gt;\n",
       "    &lt;link rel=&quot;stylesheet&quot; href=&quot;https://cdnjs.cloudflare.com/ajax/libs/Leaflet.awesome-markers/2.0.2/leaflet.awesome-markers.css&quot;/&gt;\n",
       "    &lt;link rel=&quot;stylesheet&quot; href=&quot;https://rawcdn.githack.com/python-visualization/folium/master/folium/templates/leaflet.awesome.rotate.css&quot;/&gt;\n",
       "    &lt;style&gt;html, body {width: 100%;height: 100%;margin: 0;padding: 0;}&lt;/style&gt;\n",
       "    &lt;style&gt;#map {position:absolute;top:0;bottom:0;right:0;left:0;}&lt;/style&gt;\n",
       "    \n",
       "    &lt;meta name=&quot;viewport&quot; content=&quot;width=device-width,\n",
       "        initial-scale=1.0, maximum-scale=1.0, user-scalable=no&quot; /&gt;\n",
       "    &lt;style&gt;#map_da1ca28258cd9bbd1ba53fcbf4a1056c {\n",
       "        position: relative;\n",
       "        width: 100.0%;\n",
       "        height: 100.0%;\n",
       "        left: 0.0%;\n",
       "        top: 0.0%;\n",
       "        }\n",
       "    &lt;/style&gt;\n",
       "&lt;/head&gt;\n",
       "&lt;body&gt;    \n",
       "    \n",
       "    &lt;div class=&quot;folium-map&quot; id=&quot;map_da1ca28258cd9bbd1ba53fcbf4a1056c&quot; &gt;&lt;/div&gt;\n",
       "&lt;/body&gt;\n",
       "&lt;script&gt;    \n",
       "    \n",
       "    \n",
       "        var bounds = null;\n",
       "    \n",
       "\n",
       "    var map_da1ca28258cd9bbd1ba53fcbf4a1056c = L.map(\n",
       "        &#x27;map_da1ca28258cd9bbd1ba53fcbf4a1056c&#x27;, {\n",
       "        center: [4.65226, -74.12695],\n",
       "        zoom: 15,\n",
       "        maxBounds: bounds,\n",
       "        layers: [],\n",
       "        worldCopyJump: false,\n",
       "        crs: L.CRS.EPSG3857,\n",
       "        zoomControl: true,\n",
       "        });\n",
       "\n",
       "\n",
       "    \n",
       "    var tile_layer_ddc29bf8d649a829b8e26cbb8d55f814 = L.tileLayer(\n",
       "        &#x27;https://{s}.tile.openstreetmap.org/{z}/{x}/{y}.png&#x27;,\n",
       "        {\n",
       "        &quot;attribution&quot;: null,\n",
       "        &quot;detectRetina&quot;: false,\n",
       "        &quot;maxNativeZoom&quot;: 18,\n",
       "        &quot;maxZoom&quot;: 18,\n",
       "        &quot;minZoom&quot;: 0,\n",
       "        &quot;noWrap&quot;: false,\n",
       "        &quot;opacity&quot;: 1,\n",
       "        &quot;subdomains&quot;: &quot;abc&quot;,\n",
       "        &quot;tms&quot;: false\n",
       "}).addTo(map_da1ca28258cd9bbd1ba53fcbf4a1056c);\n",
       "    \n",
       "\n",
       "            var circle_38c80f41c8a83548cf0d01771b179cf9 = L.circle(\n",
       "                [4.65226, -74.12695],\n",
       "                {\n",
       "  &quot;bubblingMouseEvents&quot;: true,\n",
       "  &quot;color&quot;: &quot;green&quot;,\n",
       "  &quot;dashArray&quot;: null,\n",
       "  &quot;dashOffset&quot;: null,\n",
       "  &quot;fill&quot;: &quot;green&quot;,\n",
       "  &quot;fillColor&quot;: &quot;green&quot;,\n",
       "  &quot;fillOpacity&quot;: 0.2,\n",
       "  &quot;fillRule&quot;: &quot;evenodd&quot;,\n",
       "  &quot;lineCap&quot;: &quot;round&quot;,\n",
       "  &quot;lineJoin&quot;: &quot;round&quot;,\n",
       "  &quot;opacity&quot;: 1.0,\n",
       "  &quot;radius&quot;: 1000,\n",
       "  &quot;stroke&quot;: true,\n",
       "  &quot;weight&quot;: 3\n",
       "}\n",
       "                )\n",
       "                .addTo(map_da1ca28258cd9bbd1ba53fcbf4a1056c);\n",
       "            \n",
       "    \n",
       "        var marker_1a117910708b135b8bc4fd5144fad93a = L.marker(\n",
       "            [4.65226, -74.12695],\n",
       "            {\n",
       "                icon: new L.Icon.Default(),\n",
       "                }\n",
       "            ).addTo(map_da1ca28258cd9bbd1ba53fcbf4a1056c);\n",
       "        \n",
       "    \n",
       "\n",
       "                var icon_bffd43ae3c9194d934f5a3cd8b92d927 = L.AwesomeMarkers.icon({\n",
       "                    icon: &#x27;home&#x27;,\n",
       "                    iconColor: &#x27;white&#x27;,\n",
       "                    markerColor: &#x27;black&#x27;,\n",
       "                    prefix: &#x27;glyphicon&#x27;,\n",
       "                    extraClasses: &#x27;fa-rotate-0&#x27;\n",
       "                    });\n",
       "                marker_1a117910708b135b8bc4fd5144fad93a.setIcon(icon_bffd43ae3c9194d934f5a3cd8b92d927);\n",
       "            \n",
       "    \n",
       "            var popup_0032a1628238d79bdcb5668e152c2488 = L.popup({maxWidth: &#x27;100%&#x27;\n",
       "            \n",
       "            });\n",
       "\n",
       "            \n",
       "                var html_869430946d654e793fcb4749803ab2f5 = $(`&lt;div id=&quot;html_869430946d654e793fcb4749803ab2f5&quot; style=&quot;width: 100.0%; height: 100.0%;&quot;&gt;&lt;b&gt;Centroid&lt;/b&gt;&lt;/div&gt;`)[0];\n",
       "                popup_0032a1628238d79bdcb5668e152c2488.setContent(html_869430946d654e793fcb4749803ab2f5);\n",
       "            \n",
       "\n",
       "            marker_1a117910708b135b8bc4fd5144fad93a.bindPopup(popup_0032a1628238d79bdcb5668e152c2488)\n",
       "            ;\n",
       "\n",
       "            \n",
       "        \n",
       "    \n",
       "        var marker_987ea4e9bb221515a78aecd489a6c334 = L.marker(\n",
       "            [4.65127, -74.1234],\n",
       "            {\n",
       "                icon: new L.Icon.Default(),\n",
       "                }\n",
       "            ).addTo(map_da1ca28258cd9bbd1ba53fcbf4a1056c);\n",
       "        \n",
       "    \n",
       "\n",
       "                var icon_9a1e4dbf9cc24a7c9b0c59d5b03ea66f = L.AwesomeMarkers.icon({\n",
       "                    icon: &#x27;usd&#x27;,\n",
       "                    iconColor: &#x27;white&#x27;,\n",
       "                    markerColor: &#x27;orange&#x27;,\n",
       "                    prefix: &#x27;glyphicon&#x27;,\n",
       "                    extraClasses: &#x27;fa-rotate-0&#x27;\n",
       "                    });\n",
       "                marker_987ea4e9bb221515a78aecd489a6c334.setIcon(icon_9a1e4dbf9cc24a7c9b0c59d5b03ea66f);\n",
       "            \n",
       "    \n",
       "            var popup_96206d4a96b8e0874bece1a4e73a4a86 = L.popup({maxWidth: &#x27;100%&#x27;\n",
       "            \n",
       "            });\n",
       "\n",
       "            \n",
       "                var i_frame_1197c0bc522d476c12f0486fce8c091e = $(`&lt;iframe src=&quot;data:text/html;charset=utf-8;base64,CiAgICA8Yj5NQVJDQTo8L2I+IE1PQklMIDxicj4KICAgICAgICAgICAgICAgICAgICA8Yj5OQU1FOjwvYj4gRURTIEVTU08gSU5EVVNUUklBTCBCT1lBQ0EgPGJyPgogICAgICAgICAgICAgICAgICAgIDxiPlBST0RVQ1RPOjwvYj4gR0FTT0xJTkEgQ09SUklFTlRFIE9YSUdFTkFEQSA8YnI+CiAgICAgICAgICAgICAgICAgICAgPGI+UFJFQ0lPOjwvYj4gOTQ5MC4wIDxicj4KICAgICAgICAgICAgICAgICAgICA8Yj5ESVNUQU5DRTo8L2I+IDAuNDE8YnI+CiAgICAgICAgICAgICAgICAgICAgPGI+RElSRUNDSU9OOjwvYj4gQ0FSUkVSQSA3MSBOby4gMTktMDU8YnI+CiAgICAgICAgICAgICAgICAgICAgPGI+VU5JVDo8L2I+IEttPGJyPg==&quot; width=&quot;360px&quot; style=&quot;border:none !important;&quot; height=&quot;180px&quot;&gt;&lt;/iframe&gt;`)[0];\n",
       "                popup_96206d4a96b8e0874bece1a4e73a4a86.setContent(i_frame_1197c0bc522d476c12f0486fce8c091e);\n",
       "            \n",
       "\n",
       "            marker_987ea4e9bb221515a78aecd489a6c334.bindPopup(popup_96206d4a96b8e0874bece1a4e73a4a86)\n",
       "            ;\n",
       "\n",
       "            \n",
       "        \n",
       "    \n",
       "        var marker_c147ac6156f9f77f31e8aa68bd3872d4 = L.marker(\n",
       "            [4.65358, -74.13098],\n",
       "            {\n",
       "                icon: new L.Icon.Default(),\n",
       "                }\n",
       "            ).addTo(map_da1ca28258cd9bbd1ba53fcbf4a1056c);\n",
       "        \n",
       "    \n",
       "\n",
       "                var icon_f7a83d6285ca7654f8ea4609c0cca7c6 = L.AwesomeMarkers.icon({\n",
       "                    icon: &#x27;usd&#x27;,\n",
       "                    iconColor: &#x27;white&#x27;,\n",
       "                    markerColor: &#x27;orange&#x27;,\n",
       "                    prefix: &#x27;glyphicon&#x27;,\n",
       "                    extraClasses: &#x27;fa-rotate-0&#x27;\n",
       "                    });\n",
       "                marker_c147ac6156f9f77f31e8aa68bd3872d4.setIcon(icon_f7a83d6285ca7654f8ea4609c0cca7c6);\n",
       "            \n",
       "    \n",
       "            var popup_7f8c9636a21fe63ac99666169b5836e6 = L.popup({maxWidth: &#x27;100%&#x27;\n",
       "            \n",
       "            });\n",
       "\n",
       "            \n",
       "                var i_frame_ff2f8e04f09ae44865d3d491ec74f2cf = $(`&lt;iframe src=&quot;data:text/html;charset=utf-8;base64,CiAgICA8Yj5NQVJDQTo8L2I+IE1PQklMIDxicj4KICAgICAgICAgICAgICAgICAgICA8Yj5OQU1FOjwvYj4gRVNUQUNJT04gREUgU0VSVklDSU8gTUlMRU5JVU0gR0FTIENBTExFIDEzIDxicj4KICAgICAgICAgICAgICAgICAgICA8Yj5QUk9EVUNUTzo8L2I+IEdBU09MSU5BIENPUlJJRU5URSBPWElHRU5BREEgPGJyPgogICAgICAgICAgICAgICAgICAgIDxiPlBSRUNJTzo8L2I+IDk0MjguMCA8YnI+CiAgICAgICAgICAgICAgICAgICAgPGI+RElTVEFOQ0U6PC9iPiAwLjQ3PGJyPgogICAgICAgICAgICAgICAgICAgIDxiPkRJUkVDQ0lPTjo8L2I+IEFWRU5JREEgQ0FMTEUgMTcgTm8uIDc4Ry0xMTxicj4KICAgICAgICAgICAgICAgICAgICA8Yj5VTklUOjwvYj4gS208YnI+&quot; width=&quot;360px&quot; style=&quot;border:none !important;&quot; height=&quot;180px&quot;&gt;&lt;/iframe&gt;`)[0];\n",
       "                popup_7f8c9636a21fe63ac99666169b5836e6.setContent(i_frame_ff2f8e04f09ae44865d3d491ec74f2cf);\n",
       "            \n",
       "\n",
       "            marker_c147ac6156f9f77f31e8aa68bd3872d4.bindPopup(popup_7f8c9636a21fe63ac99666169b5836e6)\n",
       "            ;\n",
       "\n",
       "            \n",
       "        \n",
       "    \n",
       "        var marker_c9eb47d5989b00b97db3ce0c421f3334 = L.marker(\n",
       "            [4.64574, -74.12998],\n",
       "            {\n",
       "                icon: new L.Icon.Default(),\n",
       "                }\n",
       "            ).addTo(map_da1ca28258cd9bbd1ba53fcbf4a1056c);\n",
       "        \n",
       "    \n",
       "\n",
       "                var icon_8cabf95af39fc5880d5481399099faf9 = L.AwesomeMarkers.icon({\n",
       "                    icon: &#x27;usd&#x27;,\n",
       "                    iconColor: &#x27;white&#x27;,\n",
       "                    markerColor: &#x27;darkgreen&#x27;,\n",
       "                    prefix: &#x27;glyphicon&#x27;,\n",
       "                    extraClasses: &#x27;fa-rotate-0&#x27;\n",
       "                    });\n",
       "                marker_c9eb47d5989b00b97db3ce0c421f3334.setIcon(icon_8cabf95af39fc5880d5481399099faf9);\n",
       "            \n",
       "    \n",
       "            var popup_2dc19fb1b49c7d4b7e42cf827d168de8 = L.popup({maxWidth: &#x27;100%&#x27;\n",
       "            \n",
       "            });\n",
       "\n",
       "            \n",
       "                var i_frame_ca1a7aea25715159e87cb86771c0aa0d = $(`&lt;iframe src=&quot;data:text/html;charset=utf-8;base64,CiAgICA8Yj5NQVJDQTo8L2I+IFRFUlBFTCA8YnI+CiAgICAgICAgICAgICAgICAgICAgPGI+TkFNRTo8L2I+IEVTVEFDSU9OIERFIFNFUlZJQ0lPIFRFUlBFTCBWSUxMQSBBTFpBQ0lBIDxicj4KICAgICAgICAgICAgICAgICAgICA8Yj5QUk9EVUNUTzo8L2I+IEdBU09MSU5BIENPUlJJRU5URSBPWElHRU5BREEgPGJyPgogICAgICAgICAgICAgICAgICAgIDxiPlBSRUNJTzo8L2I+IDg2MzAuMCA8YnI+CiAgICAgICAgICAgICAgICAgICAgPGI+RElTVEFOQ0U6PC9iPiAwLjg8YnI+CiAgICAgICAgICAgICAgICAgICAgPGI+RElSRUNDSU9OOjwvYj4gQ0FMTEUgMTIgQiBOby4gNzEgRCAtIDgxPGJyPgogICAgICAgICAgICAgICAgICAgIDxiPlVOSVQ6PC9iPiBLbTxicj4=&quot; width=&quot;360px&quot; style=&quot;border:none !important;&quot; height=&quot;180px&quot;&gt;&lt;/iframe&gt;`)[0];\n",
       "                popup_2dc19fb1b49c7d4b7e42cf827d168de8.setContent(i_frame_ca1a7aea25715159e87cb86771c0aa0d);\n",
       "            \n",
       "\n",
       "            marker_c9eb47d5989b00b97db3ce0c421f3334.bindPopup(popup_2dc19fb1b49c7d4b7e42cf827d168de8)\n",
       "            ;\n",
       "\n",
       "            \n",
       "        \n",
       "    \n",
       "        var marker_7e37db88df7a8a256eb888ecabea35ca = L.marker(\n",
       "            [4.64499, -74.13096],\n",
       "            {\n",
       "                icon: new L.Icon.Default(),\n",
       "                }\n",
       "            ).addTo(map_da1ca28258cd9bbd1ba53fcbf4a1056c);\n",
       "        \n",
       "    \n",
       "\n",
       "                var icon_6c51b44e319b571df43229b4485a732f = L.AwesomeMarkers.icon({\n",
       "                    icon: &#x27;usd&#x27;,\n",
       "                    iconColor: &#x27;white&#x27;,\n",
       "                    markerColor: &#x27;darkred&#x27;,\n",
       "                    prefix: &#x27;glyphicon&#x27;,\n",
       "                    extraClasses: &#x27;fa-rotate-0&#x27;\n",
       "                    });\n",
       "                marker_7e37db88df7a8a256eb888ecabea35ca.setIcon(icon_6c51b44e319b571df43229b4485a732f);\n",
       "            \n",
       "    \n",
       "            var popup_f51e0d9f3340154dbcd1a89dfcdc44dd = L.popup({maxWidth: &#x27;100%&#x27;\n",
       "            \n",
       "            });\n",
       "\n",
       "            \n",
       "                var i_frame_b3282994def60f2f377b02346d223872 = $(`&lt;iframe src=&quot;data:text/html;charset=utf-8;base64,CiAgICA8Yj5NQVJDQTo8L2I+IEJJT01BWCA8YnI+CiAgICAgICAgICAgICAgICAgICAgPGI+TkFNRTo8L2I+IEVTVEFDSU9OIERFIFNFUlZJQ0lPIFZJTExBIEFMU0FDSUEgPGJyPgogICAgICAgICAgICAgICAgICAgIDxiPlBST0RVQ1RPOjwvYj4gR0FTT0xJTkEgQ09SUklFTlRFIE9YSUdFTkFEQSA8YnI+CiAgICAgICAgICAgICAgICAgICAgPGI+UFJFQ0lPOjwvYj4gOTYzMC4wIDxicj4KICAgICAgICAgICAgICAgICAgICA8Yj5ESVNUQU5DRTo8L2I+IDAuOTI8YnI+CiAgICAgICAgICAgICAgICAgICAgPGI+RElSRUNDSU9OOjwvYj4gQ0FMTEUgMTIgQklTIE5vLiA3MUctNTM8YnI+CiAgICAgICAgICAgICAgICAgICAgPGI+VU5JVDo8L2I+IEttPGJyPg==&quot; width=&quot;360px&quot; style=&quot;border:none !important;&quot; height=&quot;180px&quot;&gt;&lt;/iframe&gt;`)[0];\n",
       "                popup_f51e0d9f3340154dbcd1a89dfcdc44dd.setContent(i_frame_b3282994def60f2f377b02346d223872);\n",
       "            \n",
       "\n",
       "            marker_7e37db88df7a8a256eb888ecabea35ca.bindPopup(popup_f51e0d9f3340154dbcd1a89dfcdc44dd)\n",
       "            ;\n",
       "\n",
       "            \n",
       "        \n",
       "&lt;/script&gt;\" style=\"position:absolute;width:100%;height:100%;left:0;top:0;border:none !important;\" allowfullscreen webkitallowfullscreen mozallowfullscreen></iframe></div></div>"
      ],
      "text/plain": [
       "<folium.folium.Map at 0x7f32693dd790>"
      ]
     },
     "execution_count": 39,
     "metadata": {},
     "output_type": "execute_result"
    }
   ],
   "source": [
    "m = folium.Map([geo_source[0],geo_source[1]], zoom_start= 15)\n",
    "\n",
    "folium.Circle(\n",
    "    \n",
    "    radius = int(radio)*1000,\n",
    "    location = [geo_source[0],geo_source[1]],\n",
    "    color = 'green',\n",
    "    fill = 'green'\n",
    "\n",
    ").add_to(m)\n",
    "\n",
    "folium.Marker(\n",
    "\n",
    "            location = [geo_source[0],geo_source[1]],\n",
    "            icon =  folium.Icon(color='black',icon_color='white',\n",
    "            icon = \"home\",prefix = 'glyphicon'),\n",
    "            popup = \"<b>Centroid</b>\").add_to(m)\n",
    "\n",
    "marker_rest(gdf_results_2,m,unit,oil[1],'usd')\n",
    "\n",
    "m"
   ]
  },
  {
   "cell_type": "code",
   "execution_count": null,
   "id": "20966439",
   "metadata": {},
   "outputs": [],
   "source": []
  },
  {
   "cell_type": "code",
   "execution_count": null,
   "id": "363c27e5",
   "metadata": {},
   "outputs": [],
   "source": []
  }
 ],
 "metadata": {
  "kernelspec": {
   "display_name": "google_datexland_env",
   "language": "python",
   "name": "google_datexland_env"
  },
  "language_info": {
   "codemirror_mode": {
    "name": "ipython",
    "version": 3
   },
   "file_extension": ".py",
   "mimetype": "text/x-python",
   "name": "python",
   "nbconvert_exporter": "python",
   "pygments_lexer": "ipython3",
   "version": "3.8.10"
  }
 },
 "nbformat": 4,
 "nbformat_minor": 5
}
